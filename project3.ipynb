{
 "cells": [
  {
   "cell_type": "code",
   "execution_count": null,
   "id": "082430fc",
   "metadata": {},
   "outputs": [],
   "source": [
    " "
   ]
  },
  {
   "cell_type": "code",
   "execution_count": 31,
   "id": "1450fb5b",
   "metadata": {},
   "outputs": [
    {
     "name": "stdout",
     "output_type": "stream",
     "text": [
      "<class 'pandas.core.frame.DataFrame'>\n",
      "RangeIndex: 906 entries, 0 to 905\n",
      "Data columns (total 7 columns):\n",
      " #   Column          Non-Null Count  Dtype  \n",
      "---  ------          --------------  -----  \n",
      " 0   matchup         906 non-null    object \n",
      " 1   game_date       906 non-null    object \n",
      " 2   type_of_hit     906 non-null    object \n",
      " 3   exit_velocity   580 non-null    float64\n",
      " 4   predicted_zone  906 non-null    int64  \n",
      " 5   camera_zone     393 non-null    float64\n",
      " 6   used_zone       906 non-null    int64  \n",
      "dtypes: float64(2), int64(2), object(3)\n",
      "memory usage: 39.0+ KB\n",
      "\n",
      "Total number of incorrect predictions: 11\n",
      "\n"
     ]
    },
    {
     "data": {
      "image/png": "[encoded data removed]",
      "text/plain": [
       "<Figure size 432x288 with 1 Axes>"
      ]
     },
     "metadata": {
      "needs_background": "light"
     },
     "output_type": "display_data"
    },
    {
     "data": {
      "image/png": "[encoded data removed]",
      "text/plain": [
       "<Figure size 432x288 with 1 Axes>"
      ]
     },
     "metadata": {
      "needs_background": "light"
     },
     "output_type": "display_data"
    }
   ],
   "source": [
    "# Ian Hochstead\n",
    "# Professor Imran\n",
    "# Data Analytics in Python\n",
    "# Project 3\n",
    "# July 2021\n",
    "#\n",
    "# I found a data set consisting of the location of foul balls\n",
    "# that landed in the stands, potentially injuring spectators.\n",
    "# https://fivethirtyeight.com/features/we-watched-906-foul-\n",
    "#             balls-to-find-out-where-the-most-dangerous-ones-land/\n",
    "# The stands were divided into 7 zones, as shown in the \n",
    "# associated file \"zone-diagram.webp\".  As shown, many stadiums \n",
    "# already have netting protecting spectators in zones 1, 2, and \n",
    "# 3.  I was curious what options, if any are available to better\n",
    "# protect spectators.  (Please see the end of the file for \n",
    "# my conclusions.)  \n",
    "#  \n",
    "\n",
    "import pandas as pd\n",
    "import matplotlib.pyplot as plt  \n",
    "\n",
    "# Read in the dataframe (csv file)\n",
    "# I don't think this data set is directly available online.\n",
    "# This line will have to be changed to reflect the end \n",
    "# user's data file location.  My off-line data file location:  \n",
    "df = pd.read_csv('C:\\\\Users\\\\ian\\\\Downloads\\\\LGA\\\\baseball\\\\foul-balls.csv')\n",
    "   \n",
    "# Get some general information about the data set \n",
    "# especially the number of columns and rows.\n",
    "df.info()\n",
    "  \n",
    "# I noted that there is a predicted location, and it seemed\n",
    "# highly accurate, so I wanted to more specifically determine\n",
    "# how accurate it is.  \n",
    "# Determine (count) the number of incorrect predictions\n",
    "totalIncorrect = 0\n",
    "for currentRow in df.index:\n",
    "    if df.predicted_zone[currentRow] != df.used_zone[currentRow]:\n",
    "         totalIncorrect += 1\n",
    "    \n",
    "print(\"\\nTotal number of incorrect predictions: \" + str(totalIncorrect) + \"\\n\")\n",
    "\n",
    "# Delete the calumn camera_zone, it is only sparsely populated.\n",
    "del df['camera_zone']\n",
    " \n",
    "# Draw the default histogram of the different landing zones.\n",
    "df.hist(column = 'used_zone')\n",
    "\n",
    "# Draw a much better histogram of the different landing zones.\n",
    "# Use 7 bins instead of 10, correct the range of the bins, \n",
    "# put the number label of each bin in a better place.\n",
    "# The re-positioning of the number label of each bin now does \n",
    "# not work with the vertical grid lines, so turn off all grid lines.\n",
    "df.hist(column = 'used_zone', bins = 7, range = (1,8), align = 'left', \n",
    "                     grid = False)\n",
    "# Add a better title to the histogram.  \n",
    "plt.title('Ball Landing Zone')\n",
    "# Remove the space (margins) on the sides of the histogram.\n",
    "# (Personally I think it is confusing.)\n",
    "plt.margins(x = 0)\n",
    "# Put back the vertical grid lines.  \n",
    "plt.gca().yaxis.grid(True)\n",
    "\n",
    "#\n",
    "# Final thoughts:\n",
    "#\n",
    "# I found the histogram for this data set highly interesting.\n",
    "# It can be clearly seen that the most balls land in zone 1, \n",
    "# followed zones 4 and 5.  Zones 2 and 3 do have some balls \n",
    "# land in those areas but not as many as in zones 4 and 5.\n",
    "# I would strongly encourage additional netting protecting \n",
    "# spectators seated in zones 4 and 5.  I also wonder if \n",
    "# netting can be removed from zones 2 and 3 or transferred \n",
    "# from zones 2 and 3 to zones 4 and 5.  Again as shown\n",
    "# by the histogram, this would enable the netting to \n",
    "# block the most balls.\n",
    "#\n",
    "# As mentioned earlier, I was also impressed by the \n",
    "# accuracy of the predicted zone data, 895 correct\n",
    "# out of 906 near 99% correct.  Therefore, I also wonder\n",
    "# if instead of or in addition to netting, some sort \n",
    "# warning system could be used, such as siren, flashing \n",
    "# lights, etc.\n",
    "#\n",
    "\n"
   ]
  },
  {
   "cell_type": "code",
   "execution_count": null,
   "id": "de455f89",
   "metadata": {},
   "outputs": [],
   "source": []
  },
  {
   "cell_type": "code",
   "execution_count": null,
   "id": "4971a898",
   "metadata": {},
   "outputs": [],
   "source": []
  },
  {
   "cell_type": "code",
   "execution_count": null,
   "id": "0df7056a",
   "metadata": {},
   "outputs": [],
   "source": []
  }
 ],
 "metadata": {
  "kernelspec": {
   "display_name": "Python 3",
   "language": "python",
   "name": "python3"
  },
  "language_info": {
   "codemirror_mode": {
    "name": "ipython",
    "version": 3
   },
   "file_extension": ".py",
   "mimetype": "text/x-python",
   "name": "python",
   "nbconvert_exporter": "python",
   "pygments_lexer": "ipython3",
   "version": "3.8.8"
  }
 },
 "nbformat": 4,
 "nbformat_minor": 5
}
